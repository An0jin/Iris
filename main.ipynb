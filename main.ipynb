{
 "cells": [
  {
   "cell_type": "code",
   "execution_count": 13,
   "id": "d6a50a63",
   "metadata": {},
   "outputs": [
    {
     "name": "stdout",
     "output_type": "stream",
     "text": [
      "Defaulting to user installation because normal site-packages is not writeable\n",
      "Requirement already satisfied: seaborn in /home/an0jin/.local/lib/python3.12/site-packages (0.13.2)\n",
      "Requirement already satisfied: scikit-learn in /home/an0jin/.local/lib/python3.12/site-packages (1.6.1)\n",
      "Requirement already satisfied: pandas in /home/an0jin/.local/lib/python3.12/site-packages (2.2.3)\n",
      "Requirement already satisfied: koreanize-matplotlib in /home/an0jin/.local/lib/python3.12/site-packages (0.1.1)\n",
      "Requirement already satisfied: numpy!=1.24.0,>=1.20 in /home/an0jin/.local/lib/python3.12/site-packages (from seaborn) (2.1.1)\n",
      "Requirement already satisfied: matplotlib!=3.6.1,>=3.4 in /home/an0jin/.local/lib/python3.12/site-packages (from seaborn) (3.10.1)\n",
      "Requirement already satisfied: scipy>=1.6.0 in /home/an0jin/.local/lib/python3.12/site-packages (from scikit-learn) (1.15.2)\n",
      "Requirement already satisfied: joblib>=1.2.0 in /home/an0jin/.local/lib/python3.12/site-packages (from scikit-learn) (1.5.0)\n",
      "Requirement already satisfied: threadpoolctl>=3.1.0 in /home/an0jin/.local/lib/python3.12/site-packages (from scikit-learn) (3.6.0)\n",
      "Requirement already satisfied: python-dateutil>=2.8.2 in /home/an0jin/.local/lib/python3.12/site-packages (from pandas) (2.9.0.post0)\n",
      "Requirement already satisfied: pytz>=2020.1 in /home/an0jin/.local/lib/python3.12/site-packages (from pandas) (2025.2)\n",
      "Requirement already satisfied: tzdata>=2022.7 in /home/an0jin/.local/lib/python3.12/site-packages (from pandas) (2025.2)\n",
      "Requirement already satisfied: contourpy>=1.0.1 in /home/an0jin/.local/lib/python3.12/site-packages (from matplotlib!=3.6.1,>=3.4->seaborn) (1.3.1)\n",
      "Requirement already satisfied: cycler>=0.10 in /home/an0jin/.local/lib/python3.12/site-packages (from matplotlib!=3.6.1,>=3.4->seaborn) (0.12.1)\n",
      "Requirement already satisfied: fonttools>=4.22.0 in /home/an0jin/.local/lib/python3.12/site-packages (from matplotlib!=3.6.1,>=3.4->seaborn) (4.57.0)\n",
      "Requirement already satisfied: kiwisolver>=1.3.1 in /home/an0jin/.local/lib/python3.12/site-packages (from matplotlib!=3.6.1,>=3.4->seaborn) (1.4.8)\n",
      "Requirement already satisfied: packaging>=20.0 in /home/an0jin/.local/lib/python3.12/site-packages (from matplotlib!=3.6.1,>=3.4->seaborn) (24.2)\n",
      "Requirement already satisfied: pillow>=8 in /home/an0jin/.local/lib/python3.12/site-packages (from matplotlib!=3.6.1,>=3.4->seaborn) (11.1.0)\n",
      "Requirement already satisfied: pyparsing>=2.3.1 in /home/an0jin/.local/lib/python3.12/site-packages (from matplotlib!=3.6.1,>=3.4->seaborn) (3.2.3)\n",
      "Requirement already satisfied: six>=1.5 in /home/an0jin/.local/lib/python3.12/site-packages (from python-dateutil>=2.8.2->pandas) (1.17.0)\n",
      "Note: you may need to restart the kernel to use updated packages.\n"
     ]
    }
   ],
   "source": [
    "%pip install seaborn scikit-learn pandas koreanize-matplotlib"
   ]
  },
  {
   "cell_type": "code",
   "execution_count": 26,
   "id": "71ffc155",
   "metadata": {},
   "outputs": [
    {
     "name": "stdout",
     "output_type": "stream",
     "text": [
      "=== 학습 요약 ===\n",
      "테스트 정확도: 0.900\n"
     ]
    }
   ],
   "source": [
    "# === 랜덤포레스트(아이리스) 트리 시각화: 완전 실행 스크립트 ===\n",
    "import numpy as np\n",
    "import pandas as pd\n",
    "import matplotlib.pyplot as plt\n",
    "import koreanize_matplotlib\n",
    "from sklearn.datasets import load_iris\n",
    "from sklearn.model_selection import train_test_split\n",
    "from sklearn.ensemble import RandomForestClassifier\n",
    "from sklearn.tree import plot_tree\n",
    "\n",
    "# 1) 데이터 준비\n",
    "iris_data = load_iris()\n",
    "feature_names = [\"꽃받침 길이(cm)\", \"꽃받침 너비(cm)\", \"꽃잎 길이(cm)\", \"꽃잎 너비(cm)\"]\n",
    "iris_df = pd.DataFrame(iris_data.data, columns=feature_names)\n",
    "iris_df[\"품종번호\"] = iris_data.target\n",
    "\n",
    "# 한국어 라벨(보고서/플롯용)\n",
    "eng_to_kor = {\n",
    "    \"setosa\": \"부채붓꽃\",\n",
    "    \"versicolor\": \"버시컬러\",\n",
    "    \"virginica\": \"버지니카\",\n",
    "}\n",
    "class_names_kor = [eng_to_kor[name] for name in iris_data.target_names]\n",
    "\n",
    "X = iris_df[feature_names]\n",
    "y = iris_df[\"품종번호\"]\n",
    "\n",
    "# 2) 데이터 분할 + 학습\n",
    "X_train, X_test, y_train, y_test = train_test_split(\n",
    "    X, y, test_size=0.2, random_state=42, stratify=y\n",
    ")\n",
    "rf = RandomForestClassifier(n_estimators=100, random_state=42)\n",
    "rf.fit(X_train, y_train)\n",
    "\n",
    "# 3) 대표 나무 1개 시각화 (첫 번째 추정기)\n",
    "plt.figure(figsize=(14, 10))\n",
    "plot_tree(\n",
    "    rf.estimators_[1],\n",
    "    feature_names=feature_names,\n",
    "    class_names=class_names_kor,\n",
    "    rounded=False,\n",
    "    impurity=False,    # 지니 불순도 노출\n",
    "    proportion=False,   # 노드 비율 표시\n",
    "    filled=True\n",
    ")\n",
    "plt.title(\"꽃 분류 그래프\")\n",
    "plt.tight_layout()\n",
    "plt.savefig(\"꽃 분류.png\", dpi=200)\n",
    "plt.close()\n",
    "\n",
    "# 6) 콘솔 요약 출력\n",
    "from sklearn.metrics import accuracy_score\n",
    "y_pred = rf.predict(X_test)\n",
    "acc = accuracy_score(y_test, y_pred)\n",
    "\n",
    "print(\"=== 학습 요약 ===\")\n",
    "print(f\"테스트 정확도: {acc:.3f}\")\n",
    "\n"
   ]
  }
 ],
 "metadata": {
  "kernelspec": {
   "display_name": "Python 3",
   "language": "python",
   "name": "python3"
  },
  "language_info": {
   "codemirror_mode": {
    "name": "ipython",
    "version": 3
   },
   "file_extension": ".py",
   "mimetype": "text/x-python",
   "name": "python",
   "nbconvert_exporter": "python",
   "pygments_lexer": "ipython3",
   "version": "3.12.3"
  }
 },
 "nbformat": 4,
 "nbformat_minor": 5
}
